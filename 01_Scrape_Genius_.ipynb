{
  "nbformat": 4,
  "nbformat_minor": 0,
  "metadata": {
    "colab": {
      "name": "01. Scrape Genius .ipynb",
      "provenance": [],
      "collapsed_sections": [],
      "authorship_tag": "ABX9TyMwQ0wy1he/Tsi93b8Npi/h",
      "include_colab_link": true
    },
    "kernelspec": {
      "name": "python3",
      "display_name": "Python 3"
    }
  },
  "cells": [
    {
      "cell_type": "markdown",
      "metadata": {
        "id": "view-in-github",
        "colab_type": "text"
      },
      "source": [
        "<a href=\"https://colab.research.google.com/github/amfakh/eapanicobacoba/blob/master/01_Scrape_Genius_.ipynb\" target=\"_parent\"><img src=\"https://colab.research.google.com/assets/colab-badge.svg\" alt=\"Open In Colab\"/></a>"
      ]
    },
    {
      "cell_type": "code",
      "metadata": {
        "id": "-ZZ_fWtYwLX-",
        "colab_type": "code",
        "colab": {
          "base_uri": "https://localhost:8080/",
          "height": 285
        },
        "outputId": "fd1af3e1-e497-4bfa-dfbb-95b66ac57e7a"
      },
      "source": [
        "pip install lyricsgenius"
      ],
      "execution_count": 1,
      "outputs": [
        {
          "output_type": "stream",
          "text": [
            "Collecting lyricsgenius\n",
            "  Downloading https://files.pythonhosted.org/packages/ac/11/882d82851d75498c3c38d84c0641ae19d26a0aef51242563f00d98b810fd/lyricsgenius-1.8.6-py3-none-any.whl\n",
            "Requirement already satisfied: requests>=2.20.0 in /usr/local/lib/python3.6/dist-packages (from lyricsgenius) (2.23.0)\n",
            "Collecting beautifulsoup4==4.6.0\n",
            "\u001b[?25l  Downloading https://files.pythonhosted.org/packages/9e/d4/10f46e5cfac773e22707237bfcd51bbffeaf0a576b0a847ec7ab15bd7ace/beautifulsoup4-4.6.0-py3-none-any.whl (86kB)\n",
            "\r\u001b[K     |███▊                            | 10kB 16.8MB/s eta 0:00:01\r\u001b[K     |███████▌                        | 20kB 15.5MB/s eta 0:00:01\r\u001b[K     |███████████▎                    | 30kB 2.8MB/s eta 0:00:01\r\u001b[K     |███████████████                 | 40kB 3.5MB/s eta 0:00:01\r\u001b[K     |██████████████████▉             | 51kB 3.9MB/s eta 0:00:01\r\u001b[K     |██████████████████████▋         | 61kB 4.0MB/s eta 0:00:01\r\u001b[K     |██████████████████████████▍     | 71kB 4.3MB/s eta 0:00:01\r\u001b[K     |██████████████████████████████▏ | 81kB 4.5MB/s eta 0:00:01\r\u001b[K     |████████████████████████████████| 92kB 3.0MB/s \n",
            "\u001b[?25hRequirement already satisfied: certifi>=2017.4.17 in /usr/local/lib/python3.6/dist-packages (from requests>=2.20.0->lyricsgenius) (2020.6.20)\n",
            "Requirement already satisfied: urllib3!=1.25.0,!=1.25.1,<1.26,>=1.21.1 in /usr/local/lib/python3.6/dist-packages (from requests>=2.20.0->lyricsgenius) (1.24.3)\n",
            "Requirement already satisfied: idna<3,>=2.5 in /usr/local/lib/python3.6/dist-packages (from requests>=2.20.0->lyricsgenius) (2.10)\n",
            "Requirement already satisfied: chardet<4,>=3.0.2 in /usr/local/lib/python3.6/dist-packages (from requests>=2.20.0->lyricsgenius) (3.0.4)\n",
            "Installing collected packages: beautifulsoup4, lyricsgenius\n",
            "  Found existing installation: beautifulsoup4 4.6.3\n",
            "    Uninstalling beautifulsoup4-4.6.3:\n",
            "      Successfully uninstalled beautifulsoup4-4.6.3\n",
            "Successfully installed beautifulsoup4-4.6.0 lyricsgenius-1.8.6\n"
          ],
          "name": "stdout"
        }
      ]
    },
    {
      "cell_type": "code",
      "metadata": {
        "id": "gtMu2WPqyPai",
        "colab_type": "code",
        "colab": {}
      },
      "source": [
        "#Assign your Genius.com credentials and select your artist\n",
        "import lyricsgenius as genius\n",
        "geniusCreds = \"PXpvxuPl_XyMM02ly-gyw8bd7tyP1avUQLZVsR4ooRmhfbTDOWG8mEHez0DGygjp\"\n",
        "artist_name = \"Fiersa Besari\""
      ],
      "execution_count": 2,
      "outputs": []
    },
    {
      "cell_type": "code",
      "metadata": {
        "id": "ImlouSTEyR5X",
        "colab_type": "code",
        "colab": {}
      },
      "source": [
        "#Connect your credentials and chosen artist to the genius object then test the first 5 songs\n",
        "api = genius.Genius(geniusCreds)\n",
        "# artist = api.search_artist(artist_name, max_songs=5)"
      ],
      "execution_count": 3,
      "outputs": []
    },
    {
      "cell_type": "code",
      "metadata": {
        "id": "B2uQGLCByTpj",
        "colab_type": "code",
        "colab": {
          "base_uri": "https://localhost:8080/",
          "height": 1000
        },
        "outputId": "57bfe4a8-dd48-4352-cfec-2d8104ab6a4c"
      },
      "source": [
        "artist = api.search_artist(artist_name)"
      ],
      "execution_count": 4,
      "outputs": [
        {
          "output_type": "stream",
          "text": [
            "Searching for songs by Fiersa Besari...\n",
            "\n",
            "Song 1: \"Waktu Yang Salah\"\n",
            "Song 2: \"Celengan Rindu\"\n",
            "Song 3: \"April\"\n",
            "Song 4: \"Bukan Lagu Valentine\"\n",
            "Song 5: \"Garis Terdepan\"\n",
            "Song 6: \"Nadir\"\n",
            "Song 7: \"Cerita Panjang Dihidup yang Singkat\"\n",
            "Song 8: \"Kau\"\n",
            "Song 9: \"Rumah\"\n",
            "Song 10: \"Pelukku Untuk Pelikmu (OST Imperfect: Karier, Cinta, & Timbangan)\"\n",
            "Song 11: \"Bandung\"\n",
            "Song 12: \"Sepasang Pendaki\"\n",
            "Song 13: \"Hingga Napas Ini Habis\"\n",
            "Song 14: \"Kisah Semu\"\n",
            "Song 15: \"Temaram\"\n",
            "Song 16: \"Hidup Kan Baik-Baik Saja\"\n",
            "Song 17: \"Melangkah Tanpamu\"\n",
            "Song 18: \"Tanpa Karena\"\n",
            "Song 19: \"Tempat Aku Pulang\"\n",
            "Song 20: \"Terima Kasih dan Maaf\"\n",
            "Song 21: \"Lembayung\"\n",
            "Song 22: \"Ibu\"\n",
            "Song 23: \"And I Need You\"\n",
            "Song 24: \"Epilog\"\n",
            "Song 25: \"Samar\"\n",
            "Song 26: \"Juara Kedua\"\n",
            "Song 27: \"Lekas Pulih\"\n",
            "Song 28: \"I Heart Thee\"\n",
            "Song 29: \"Konspirasi Alam Semesta\"\n",
            "Song 30: \"Tentang Ayah\"\n",
            "Song 31: \"Anak Semua Bangsa\"\n",
            "Song 32: \"Selamat Tinggal\"\n",
            "Song 33: \"Tiffa\"\n",
            "Song 34: \"Petualangan\"\n",
            "Song 35: \"Kawan Yang Mengagumkan\"\n",
            "Song 36: \"Friendzone\"\n",
            "Song 37: \"Hari Untukmu\"\n",
            "Song 38: \"Senja Bersayap\"\n",
            "Song 39: \"Harapan\"\n",
            "Song 40: \"Edelweiss\"\n",
            "Song 41: \"Belum Punah\"\n",
            "Song 42: \"Napak Tilas\"\n",
            "Song 43: \"Nona Senja\"\n",
            "Song 44: \"Acak Corak\"\n",
            "Song 45: \"Telapak Kaki\"\n",
            "Song 46: \"Pemeran Pengganti\"\n",
            "Song 47: \"Kelana\"\n",
            "Song 48: \"Kala\"\n",
            "Song 49: \"Home\"\n",
            "Song 50: \"Lads\"\n",
            "Song 51: \"Dirgahayu\"\n",
            "Song 52: \"Obsesi\"\n",
            "Song 53: \"Glimpse\"\n",
            "Song 54: \"Garis Waktu\"\n",
            "Song 55: \"Cerita Rakyat\"\n",
            "Song 56: \"Salahkah Mengalah\"\n",
            "Song 57: \"Janji yang Tak Tertepati\"\n",
            "Song 58: \"Hingga Akhir Nafas Ini\"\n",
            "Done. Found 58 songs.\n"
          ],
          "name": "stdout"
        }
      ]
    },
    {
      "cell_type": "code",
      "metadata": {
        "id": "e9pRl6WNyT9l",
        "colab_type": "code",
        "colab": {
          "base_uri": "https://localhost:8080/",
          "height": 36
        },
        "outputId": "c66b9bab-8cfc-499a-ef52-83070171e645"
      },
      "source": [
        "import os\n",
        "os.getcwd()"
      ],
      "execution_count": 5,
      "outputs": [
        {
          "output_type": "execute_result",
          "data": {
            "application/vnd.google.colaboratory.intrinsic": {
              "type": "string"
            },
            "text/plain": [
              "'/content'"
            ]
          },
          "metadata": {
            "tags": []
          },
          "execution_count": 5
        }
      ]
    },
    {
      "cell_type": "code",
      "metadata": {
        "id": "ZzLjlmJTyq2C",
        "colab_type": "code",
        "colab": {
          "base_uri": "https://localhost:8080/",
          "height": 35
        },
        "outputId": "78b8b433-e19c-46f6-9c5f-99970d507bca"
      },
      "source": [
        "json = artist.save_lyrics()"
      ],
      "execution_count": 7,
      "outputs": [
        {
          "output_type": "stream",
          "text": [
            "Wrote `Lyrics_FiersaBesari.json`\n"
          ],
          "name": "stdout"
        }
      ]
    },
    {
      "cell_type": "code",
      "metadata": {
        "id": "RQQwkAPcyWfj",
        "colab_type": "code",
        "colab": {
          "base_uri": "https://localhost:8080/",
          "height": 35
        },
        "outputId": "c6da66bd-2dc3-4a3d-c27e-a206172c22e8"
      },
      "source": [
        "print(json)"
      ],
      "execution_count": 8,
      "outputs": [
        {
          "output_type": "stream",
          "text": [
            "None\n"
          ],
          "name": "stdout"
        }
      ]
    },
    {
      "cell_type": "code",
      "metadata": {
        "id": "YDab0sSdyWsw",
        "colab_type": "code",
        "colab": {}
      },
      "source": [
        ""
      ],
      "execution_count": null,
      "outputs": []
    }
  ]
}