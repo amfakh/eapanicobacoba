{
  "nbformat": 4,
  "nbformat_minor": 0,
  "metadata": {
    "colab": {
      "name": "Scrape Genius.ipynb",
      "provenance": [],
      "collapsed_sections": [],
      "authorship_tag": "ABX9TyNOf/PwGFUHXe6sNsPhZydI",
      "include_colab_link": true
    },
    "kernelspec": {
      "name": "python3",
      "display_name": "Python 3"
    }
  },
  "cells": [
    {
      "cell_type": "markdown",
      "metadata": {
        "id": "view-in-github",
        "colab_type": "text"
      },
      "source": [
        "<a href=\"https://colab.research.google.com/github/amfakh/eapanicobacoba/blob/master/Scrape_Genius.ipynb\" target=\"_parent\"><img src=\"https://colab.research.google.com/assets/colab-badge.svg\" alt=\"Open In Colab\"/></a>"
      ]
    },
    {
      "cell_type": "markdown",
      "metadata": {
        "id": "dU4aiyBw-smJ",
        "colab_type": "text"
      },
      "source": [
        "Sauce:\n",
        "\n",
        "https://medium.com/analytics-vidhya/how-to-scrape-song-lyrics-a-gentle-python-tutorial-5b1d4ab351d2\n",
        "\n",
        "https://www.promptcloud.com/blog/scraping-song-lyrics-using-python-from-genius/"
      ]
    },
    {
      "cell_type": "code",
      "metadata": {
        "id": "9Ta0QGUq1byw",
        "colab_type": "code",
        "colab": {}
      },
      "source": [
        "import urllib.request\n",
        "import urllib.parse\n",
        "import urllib.error\n",
        "import ssl\n",
        "import os\n",
        "import re\n",
        "import requests\n",
        "\n",
        "from urllib.request import Request, urlopen\n",
        "from bs4 import BeautifulSoup"
      ],
      "execution_count": 1,
      "outputs": []
    },
    {
      "cell_type": "code",
      "metadata": {
        "id": "P414fELH1zUA",
        "colab_type": "code",
        "colab": {}
      },
      "source": [
        "GENIUS_API_TOKEN='PXpvxuPl_XyMM02ly-gyw8bd7tyP1avUQLZVsR4ooRmhfbTDOWG8mEHez0DGygjp'"
      ],
      "execution_count": 2,
      "outputs": []
    },
    {
      "cell_type": "code",
      "metadata": {
        "id": "FUOGeQbd1lWY",
        "colab_type": "code",
        "colab": {}
      },
      "source": [
        "# Get artist object from Genius API\n",
        "def request_artist_info(artist_name, page):\n",
        "    base_url = 'https://api.genius.com'\n",
        "    headers = {'Authorization': 'Bearer ' + GENIUS_API_TOKEN}\n",
        "    search_url = base_url + '/search?per_page=10&page=' + str(page)\n",
        "    data = {'q': artist_name}\n",
        "    response = requests.get(search_url, data=data, headers=headers)\n",
        "    return response# Get Genius.com song url's from artist object\n",
        "    \n",
        "# DEMO\n",
        "# request_song_url('JKT48', 10)"
      ],
      "execution_count": 3,
      "outputs": []
    },
    {
      "cell_type": "code",
      "metadata": {
        "id": "JiiGMY_HMxxw",
        "colab_type": "code",
        "colab": {}
      },
      "source": [
        "def request_song_url(artist_name, song_cap):\n",
        "    page = 1\n",
        "    songs = []\n",
        "    \n",
        "    while True:\n",
        "        response = request_artist_info(artist_name, page)\n",
        "        json = response.json()        # Collect up to song_cap song objects from artist\n",
        "        song_info = []\n",
        "        for hit in json['response']['hits']:\n",
        "            if artist_name.lower() in hit['result']['primary_artist']['name'].lower():\n",
        "                song_info.append(hit)\n",
        "    \n",
        "        # Collect song URL's from song objects\n",
        "        for song in song_info:\n",
        "            if (len(songs) < song_cap):\n",
        "                url = song['result']['url']\n",
        "                songs.append(url)\n",
        "            \n",
        "        if (len(songs) == song_cap):\n",
        "            break\n",
        "        else:\n",
        "            page += 1\n",
        "        \n",
        "    print('Found {} songs by {}'.format(len(songs), artist_name))\n",
        "    return songs"
      ],
      "execution_count": 4,
      "outputs": []
    },
    {
      "cell_type": "code",
      "metadata": {
        "id": "KXKfL4V27qsl",
        "colab_type": "code",
        "colab": {}
      },
      "source": [
        "# For ignoring SSL certificate errors\n",
        "ctx = ssl.create_default_context()\n",
        "ctx.check_hostname = False\n",
        "ctx.verify_mode = ssl.CERT_NONE"
      ],
      "execution_count": 5,
      "outputs": []
    },
    {
      "cell_type": "code",
      "metadata": {
        "id": "iARBlm3f7Zgc",
        "colab_type": "code",
        "colab": {}
      },
      "source": [
        "song_json = {}\n",
        "song_json[\"Primary Artist\"] = []\n",
        "song_json[\"Song Title\"] = []\n",
        "song_json[\"Lyrics\"] = []\n",
        "\n",
        "\n",
        "def scrape_from_link(url):\n",
        "    req = Request(url, headers = { 'User-Agent' : 'Mozilla/5.0' })\n",
        "    webpage = urlopen(req).read()\n",
        "    soup = BeautifulSoup(webpage, 'html.parser')\n",
        "    html = soup.prettify('utf-8')\n",
        "\n",
        "    for div in soup.findAll('h1', attrs = {'class': 'header_with_cover_art-primary_info-title'}):\n",
        "        song_json[\"Song Title\"].append(div.text.strip());\n",
        "\n",
        "    for div in soup.findAll('a', attrs = {'class': 'header_with_cover_art-primary_info-primary_artist'}):\n",
        "        song_json[\"Primary Artist\"].append(div.text.strip());    \n",
        "\n",
        "    for div in soup.findAll('div', attrs = {'class': 'lyrics'}):\n",
        "        song_json[\"Lyrics\"].append(div.text.strip().split(\"\\n\"));\n"
      ],
      "execution_count": 6,
      "outputs": []
    },
    {
      "cell_type": "code",
      "metadata": {
        "id": "nQEAUoaz8VnR",
        "colab_type": "code",
        "colab": {}
      },
      "source": [
        "# scrape_from_link('https://genius.com/Jkt48-only-today-lyrics')"
      ],
      "execution_count": 7,
      "outputs": []
    },
    {
      "cell_type": "code",
      "metadata": {
        "id": "xxEpESIZGsfs",
        "colab_type": "code",
        "colab": {}
      },
      "source": [
        "# song_json"
      ],
      "execution_count": 8,
      "outputs": []
    },
    {
      "cell_type": "code",
      "metadata": {
        "id": "-x-lVxMW9T98",
        "colab_type": "code",
        "colab": {
          "base_uri": "https://localhost:8080/",
          "height": 928
        },
        "outputId": "3f133b30-344e-4630-c1b8-0edfdc14d0ba"
      },
      "source": [
        "import json\n",
        "\n",
        "def write_lyrics_to_file(artist_name, song_count):\n",
        "\n",
        "    with open(artist_name.lower() + '.json', 'w') as outfile:\n",
        "        urls = request_song_url(artist_name, song_count)\n",
        "        for url in urls:\n",
        "            print(url)\n",
        "            scrape_from_link(url)\n",
        "            # print(\"Scrapped: \" + song_json[\"Song Title\"][-1])\n",
        "        json.dump(song_json, outfile, indent = 4, ensure_ascii = False)\n",
        "  \n",
        "# DEMO  \n",
        "write_lyrics_to_file('JKT48', 50)"
      ],
      "execution_count": 10,
      "outputs": [
        {
          "output_type": "stream",
          "text": [
            "Found 50 songs by JKT48\n",
            "https://genius.com/Jkt48-heavy-rotation-lyrics\n",
            "https://genius.com/Jkt48-fortune-cookie-yang-mencinta-fortune-cookie-in-love-lyrics\n",
            "https://genius.com/Jkt48-river-lyrics\n",
            "https://genius.com/Jkt48-pesawat-kertas-365-hari-lyrics\n",
            "https://genius.com/Jkt48-everyday-kachuusha-lyrics\n",
            "https://genius.com/Jkt48-dirimu-melody-kimi-wa-melody-lyrics\n",
            "https://genius.com/Jkt48-only-today-lyrics\n",
            "https://genius.com/Jkt48-baby-baby-baby-lyrics\n",
            "https://genius.com/Jkt48-first-rabbit-lyrics\n",
            "https://genius.com/Jkt48-sebagian-besar-kenangan-omoide-no-hotondo-lyrics\n",
            "https://genius.com/Jkt48-rapsodi-lyrics\n",
            "https://genius.com/Jkt48-seesaw-game-penuh-air-mata-namida-no-seesaw-game-lyrics\n",
            "https://genius.com/Jkt48-kereta-kedewasaan-otona-ressha-lyrics\n",
            "https://genius.com/Jkt48-so-long-lyrics\n",
            "https://genius.com/Jkt48-bersama-kamu-pelangi-dan-mentari-kimi-to-niji-to-taiyou-to-lyrics\n",
            "https://genius.com/Jkt48-beginner-lyrics\n",
            "https://genius.com/Jkt48-high-tension-lyrics\n",
            "https://genius.com/Jkt48-kita-pernah-di-sini-koko-ni-itakoto-lyrics\n",
            "https://genius.com/Jkt48-refrain-penuh-harapan-kibouteki-refrain-lyrics\n",
            "https://genius.com/Jkt48-uza-lyrics\n",
            "https://genius.com/Jkt48-sweet-and-bitter-lyrics\n",
            "https://genius.com/Jkt48-bingo-lyrics\n",
            "https://genius.com/Jkt48-di-bawah-langit-berwarna-sakura-lyrics\n",
            "https://genius.com/Jkt48-siapa-yang-mempertemukan-kita-berdua-dare-ga-futari-wo-deawaseta-no-ka-lyrics\n",
            "https://genius.com/Jkt48-wahai-kesatria-tsuyokimono-yo-lyrics\n",
            "https://genius.com/Jkt48-cahaya-panjang-nagai-hikari-lyrics\n",
            "https://genius.com/Jkt48-menanti-lyrics\n",
            "https://genius.com/Jkt48-relax-lyrics\n",
            "https://genius.com/Jkt48-kamulah-yang-memberitahu-aku-kimi-ga-oshiete-kureta-lyrics\n",
            "https://genius.com/Jkt48-indahnya-senyum-manismu-dst-suzukake-nancharaa-lyrics\n",
            "https://genius.com/Jkt48-indahnya-senyum-manismu-dst-suzukake-nancharaa-english-version-lyrics\n",
            "https://genius.com/Jkt48-cinta-pertama-di-jam-7-lewat-12-7ji-12fun-no-hatsukoi-lyrics\n",
            "https://genius.com/Jkt48-bukan-alpukat-avogado-janeeshi-lyrics\n",
            "https://genius.com/Jkt48-mimpi-yang-hina-gesu-na-yume-lyrics\n",
            "https://genius.com/Jkt48-tunas-di-balik-seragam-seifuku-no-me-lyrics\n",
            "https://genius.com/Jkt48-cowok-durian-durian-shounen-lyrics\n",
            "https://genius.com/Jkt48-wasshoi-j-lyrics\n",
            "https://genius.com/Jkt48-back-hip-circle-saka-agari-lyrics\n",
            "https://genius.com/Jkt48-kenyataan-yang-ternoda-kegarete-iru-shinjitsu-lyrics\n",
            "https://genius.com/Jkt48-betapa-indahnya-waktu-tempat-kita-lahir-nante-suteki-na-sekai-ni-umareta-no-darou-lyrics\n",
            "https://genius.com/Jkt48-musim-yang-selanjutnya-tsugi-no-season-lyrics\n",
            "https://genius.com/Jkt48-cinta-pertama-butterfly-hatsukoi-butterfly-lyrics\n",
            "https://genius.com/Jkt48-majisuka-rock-n-roll-lyrics\n",
            "https://genius.com/Jkt48-faint-lyrics\n",
            "https://genius.com/Jkt48-di-sini-rhodes-lompatlah-koko-ga-rhodes-da-koko-de-tobe-lyrics\n",
            "https://genius.com/Jkt48-sampai-musim-semi-tiba-haru-ga-kuru-made-lyrics\n",
            "https://genius.com/Jkt48-kamonegix-lyrics\n",
            "https://genius.com/Jkt48-rasa-sayang-yang-dulu-aku-remehkan-keibetsu-shiteita-aijou-lyrics\n",
            "https://genius.com/Jkt48-aishiteraburu-lyrics\n",
            "https://genius.com/Jkt48-sekarang-sedang-jatuh-cinta-tadaima-renaichuu-lyrics\n"
          ],
          "name": "stdout"
        }
      ]
    },
    {
      "cell_type": "code",
      "metadata": {
        "id": "5kSNTSe5-279",
        "colab_type": "code",
        "colab": {}
      },
      "source": [
        "import pandas as pd"
      ],
      "execution_count": 12,
      "outputs": []
    },
    {
      "cell_type": "code",
      "metadata": {
        "id": "rAuVgjYeSP3q",
        "colab_type": "code",
        "colab": {}
      },
      "source": [
        "df = pd.read_json (r'jkt48.json')"
      ],
      "execution_count": 13,
      "outputs": []
    },
    {
      "cell_type": "code",
      "metadata": {
        "id": "LCAx6zGtSlJu",
        "colab_type": "code",
        "colab": {
          "base_uri": "https://localhost:8080/",
          "height": 708
        },
        "outputId": "b0b768ac-534c-47a2-ffb7-297b6743a0a6"
      },
      "source": [
        "df"
      ],
      "execution_count": 14,
      "outputs": [
        {
          "output_type": "execute_result",
          "data": {
            "text/html": [
              "<div>\n",
              "<style scoped>\n",
              "    .dataframe tbody tr th:only-of-type {\n",
              "        vertical-align: middle;\n",
              "    }\n",
              "\n",
              "    .dataframe tbody tr th {\n",
              "        vertical-align: top;\n",
              "    }\n",
              "\n",
              "    .dataframe thead th {\n",
              "        text-align: right;\n",
              "    }\n",
              "</style>\n",
              "<table border=\"1\" class=\"dataframe\">\n",
              "  <thead>\n",
              "    <tr style=\"text-align: right;\">\n",
              "      <th></th>\n",
              "      <th>Primary Artist</th>\n",
              "      <th>Song Title</th>\n",
              "      <th>Lyrics</th>\n",
              "    </tr>\n",
              "  </thead>\n",
              "  <tbody>\n",
              "    <tr>\n",
              "      <th>0</th>\n",
              "      <td>JKT48</td>\n",
              "      <td>Heavy Rotation</td>\n",
              "      <td>[[Intro], One! Two! Three! Four, , [Chorus 1],...</td>\n",
              "    </tr>\n",
              "    <tr>\n",
              "      <th>1</th>\n",
              "      <td>JKT48</td>\n",
              "      <td>Fortune Cookie Yang Mencinta (Fortune Cookie I...</td>\n",
              "      <td>[[Verse 1], Walaupun diri ini menyukaimu, Kamu...</td>\n",
              "    </tr>\n",
              "    <tr>\n",
              "      <th>2</th>\n",
              "      <td>JKT48</td>\n",
              "      <td>Everyday, Kachuusha</td>\n",
              "      <td>[[Verse 1], Saat mentari mulai bersinar, Lebih...</td>\n",
              "    </tr>\n",
              "    <tr>\n",
              "      <th>3</th>\n",
              "      <td>JKT48</td>\n",
              "      <td>Only Today</td>\n",
              "      <td>[[Verse 1], Bagaimana pun juga ku ingin, Ke la...</td>\n",
              "    </tr>\n",
              "    <tr>\n",
              "      <th>4</th>\n",
              "      <td>JKT48</td>\n",
              "      <td>Baby! Baby! Baby!</td>\n",
              "      <td>[[Chorus 1], I Love you baby baby baby, alihka...</td>\n",
              "    </tr>\n",
              "    <tr>\n",
              "      <th>5</th>\n",
              "      <td>JKT48</td>\n",
              "      <td>First Rabbit</td>\n",
              "      <td>[[Verse 1], Suatu hari di dalam hutan ditemuka...</td>\n",
              "    </tr>\n",
              "    <tr>\n",
              "      <th>6</th>\n",
              "      <td>JKT48</td>\n",
              "      <td>Sebagian Besar Kenangan (Omoide No Hotondo)</td>\n",
              "      <td>[[Verse 1: Melody, Shanju], Dari setiap jendel...</td>\n",
              "    </tr>\n",
              "    <tr>\n",
              "      <th>7</th>\n",
              "      <td>JKT48</td>\n",
              "      <td>So Long!</td>\n",
              "      <td>[[Intro], So long (So long), Tersenyumlah, So ...</td>\n",
              "    </tr>\n",
              "    <tr>\n",
              "      <th>8</th>\n",
              "      <td>JKT48</td>\n",
              "      <td>Kita Pernah Di Sini (Koko Ni Itakoto)</td>\n",
              "      <td>[[Verse 1], Ku akan terus berjalan, Di sepanja...</td>\n",
              "    </tr>\n",
              "    <tr>\n",
              "      <th>9</th>\n",
              "      <td>JKT48</td>\n",
              "      <td>Sweet &amp; Bitter</td>\n",
              "      <td>[[Chorus], Hei hei, pilih yang mana? Cokelat, ...</td>\n",
              "    </tr>\n",
              "    <tr>\n",
              "      <th>10</th>\n",
              "      <td>JKT48</td>\n",
              "      <td>BINGO!</td>\n",
              "      <td>[[Intro], 1! 2! 3! 4!, Wow, wow, wow, Wow, wow...</td>\n",
              "    </tr>\n",
              "    <tr>\n",
              "      <th>11</th>\n",
              "      <td>JKT48</td>\n",
              "      <td>Bukan Alpukat... (Avogado Janeeshi)</td>\n",
              "      <td>[[Intro], Stroberi, Pisang, Apel, Melon, Ceri,...</td>\n",
              "    </tr>\n",
              "    <tr>\n",
              "      <th>12</th>\n",
              "      <td>JKT48</td>\n",
              "      <td>Mimpi Yang Hina (Gesu Na Yume)</td>\n",
              "      <td>[[Verse 1], Aku mendengar rumor, Di tempat sek...</td>\n",
              "    </tr>\n",
              "    <tr>\n",
              "      <th>13</th>\n",
              "      <td>JKT48</td>\n",
              "      <td>Tunas Di Balik Seragam (Seifuku No Me)</td>\n",
              "      <td>[[Lirik \"Tunas di Balik Seragam\"], , [Verse 1]...</td>\n",
              "    </tr>\n",
              "    <tr>\n",
              "      <th>14</th>\n",
              "      <td>JKT48</td>\n",
              "      <td>Wasshoi J!</td>\n",
              "      <td>[[Intro], Cinta! Kuat!, Cinta! Kuat!, Saat ini...</td>\n",
              "    </tr>\n",
              "    <tr>\n",
              "      <th>15</th>\n",
              "      <td>JKT48</td>\n",
              "      <td>Kenyataan yang Ternoda (Kegarete Iru Shinjitsu)</td>\n",
              "      <td>[[Chorus 1], Kenyataan yang telah ternoda, Dar...</td>\n",
              "    </tr>\n",
              "    <tr>\n",
              "      <th>16</th>\n",
              "      <td>JKT48</td>\n",
              "      <td>Musim Yang Selanjutnya (Tsugi No Season)</td>\n",
              "      <td>[[Verse 1], Angin musim gugur meniup dahan poh...</td>\n",
              "    </tr>\n",
              "    <tr>\n",
              "      <th>17</th>\n",
              "      <td>JKT48</td>\n",
              "      <td>Cinta Pertama Butterfly (Hatsukoi Butterfly)</td>\n",
              "      <td>[[Verse 1], Dari celah di jendela yang terbuka...</td>\n",
              "    </tr>\n",
              "    <tr>\n",
              "      <th>18</th>\n",
              "      <td>JKT48</td>\n",
              "      <td>Majisuka Rock N’ Roll</td>\n",
              "      <td>[[Lirik \"Majisuka Rock N' Roll\"], , [Verse 1],...</td>\n",
              "    </tr>\n",
              "    <tr>\n",
              "      <th>19</th>\n",
              "      <td>JKT48</td>\n",
              "      <td>Di Sini Rhodes, Lompatlah! (Koko Ga Rhodes Da,...</td>\n",
              "      <td>[[Verse 1], Setelah melalui perjalanan panjang...</td>\n",
              "    </tr>\n",
              "    <tr>\n",
              "      <th>20</th>\n",
              "      <td>JKT48</td>\n",
              "      <td>Aishiteraburu</td>\n",
              "      <td>[[Intro], I love you! Aishiteru!, , [Verse 1],...</td>\n",
              "    </tr>\n",
              "  </tbody>\n",
              "</table>\n",
              "</div>"
            ],
            "text/plain": [
              "   Primary Artist  ...                                             Lyrics\n",
              "0           JKT48  ...  [[Intro], One! Two! Three! Four, , [Chorus 1],...\n",
              "1           JKT48  ...  [[Verse 1], Walaupun diri ini menyukaimu, Kamu...\n",
              "2           JKT48  ...  [[Verse 1], Saat mentari mulai bersinar, Lebih...\n",
              "3           JKT48  ...  [[Verse 1], Bagaimana pun juga ku ingin, Ke la...\n",
              "4           JKT48  ...  [[Chorus 1], I Love you baby baby baby, alihka...\n",
              "5           JKT48  ...  [[Verse 1], Suatu hari di dalam hutan ditemuka...\n",
              "6           JKT48  ...  [[Verse 1: Melody, Shanju], Dari setiap jendel...\n",
              "7           JKT48  ...  [[Intro], So long (So long), Tersenyumlah, So ...\n",
              "8           JKT48  ...  [[Verse 1], Ku akan terus berjalan, Di sepanja...\n",
              "9           JKT48  ...  [[Chorus], Hei hei, pilih yang mana? Cokelat, ...\n",
              "10          JKT48  ...  [[Intro], 1! 2! 3! 4!, Wow, wow, wow, Wow, wow...\n",
              "11          JKT48  ...  [[Intro], Stroberi, Pisang, Apel, Melon, Ceri,...\n",
              "12          JKT48  ...  [[Verse 1], Aku mendengar rumor, Di tempat sek...\n",
              "13          JKT48  ...  [[Lirik \"Tunas di Balik Seragam\"], , [Verse 1]...\n",
              "14          JKT48  ...  [[Intro], Cinta! Kuat!, Cinta! Kuat!, Saat ini...\n",
              "15          JKT48  ...  [[Chorus 1], Kenyataan yang telah ternoda, Dar...\n",
              "16          JKT48  ...  [[Verse 1], Angin musim gugur meniup dahan poh...\n",
              "17          JKT48  ...  [[Verse 1], Dari celah di jendela yang terbuka...\n",
              "18          JKT48  ...  [[Lirik \"Majisuka Rock N' Roll\"], , [Verse 1],...\n",
              "19          JKT48  ...  [[Verse 1], Setelah melalui perjalanan panjang...\n",
              "20          JKT48  ...  [[Intro], I love you! Aishiteru!, , [Verse 1],...\n",
              "\n",
              "[21 rows x 3 columns]"
            ]
          },
          "metadata": {
            "tags": []
          },
          "execution_count": 14
        }
      ]
    },
    {
      "cell_type": "code",
      "metadata": {
        "id": "h-GbaU7eSmGq",
        "colab_type": "code",
        "colab": {}
      },
      "source": [
        ""
      ],
      "execution_count": null,
      "outputs": []
    }
  ]
}