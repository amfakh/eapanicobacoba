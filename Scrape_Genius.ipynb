{
  "nbformat": 4,
  "nbformat_minor": 0,
  "metadata": {
    "colab": {
      "name": "Scrape Genius 1.ipynb",
      "provenance": [],
      "collapsed_sections": [],
      "authorship_tag": "ABX9TyPxE/MmirJ+9gXqb84A1+lP",
      "include_colab_link": true
    },
    "kernelspec": {
      "name": "python3",
      "display_name": "Python 3"
    }
  },
  "cells": [
    {
      "cell_type": "markdown",
      "metadata": {
        "id": "view-in-github",
        "colab_type": "text"
      },
      "source": [
        "<a href=\"https://colab.research.google.com/github/amfakh/eapanicobacoba/blob/master/Scrape_Genius.ipynb\" target=\"_parent\"><img src=\"https://colab.research.google.com/assets/colab-badge.svg\" alt=\"Open In Colab\"/></a>"
      ]
    },
    {
      "cell_type": "markdown",
      "metadata": {
        "id": "dU4aiyBw-smJ",
        "colab_type": "text"
      },
      "source": [
        "https://medium.com/analytics-vidhya/how-to-scrape-song-lyrics-a-gentle-python-tutorial-5b1d4ab351d2"
      ]
    },
    {
      "cell_type": "code",
      "metadata": {
        "id": "9Ta0QGUq1byw",
        "colab_type": "code",
        "colab": {}
      },
      "source": [
        "# Make HTTP requests\n",
        "import requests\n",
        "\n",
        "# Scrape data from an HTML document\n",
        "from bs4 import BeautifulSoup\n",
        "\n",
        "# I/O\n",
        "import os\n",
        "\n",
        "# Search and manipulate strings\n",
        "import re"
      ],
      "execution_count": 1,
      "outputs": []
    },
    {
      "cell_type": "code",
      "metadata": {
        "id": "P414fELH1zUA",
        "colab_type": "code",
        "colab": {}
      },
      "source": [
        "GENIUS_API_TOKEN='PXpvxuPl_XyMM02ly-gyw8bd7tyP1avUQLZVsR4ooRmhfbTDOWG8mEHez0DGygjp'"
      ],
      "execution_count": 2,
      "outputs": []
    },
    {
      "cell_type": "code",
      "metadata": {
        "id": "FUOGeQbd1lWY",
        "colab_type": "code",
        "colab": {
          "base_uri": "https://localhost:8080/",
          "height": 0
        },
        "outputId": "d810d729-6be6-4712-eb18-5c12480cead9"
      },
      "source": [
        "# Get artist object from Genius API\n",
        "def request_artist_info(artist_name, page):\n",
        "    base_url = 'https://api.genius.com'\n",
        "    headers = {'Authorization': 'Bearer ' + GENIUS_API_TOKEN}\n",
        "    search_url = base_url + '/search?per_page=10&page=' + str(page)\n",
        "    data = {'q': artist_name}\n",
        "    response = requests.get(search_url, data=data, headers=headers)\n",
        "    return response# Get Genius.com song url's from artist object\n",
        "def request_song_url(artist_name, song_cap):\n",
        "    page = 1\n",
        "    songs = []\n",
        "    \n",
        "    while True:\n",
        "        response = request_artist_info(artist_name, page)\n",
        "        json = response.json()        # Collect up to song_cap song objects from artist\n",
        "        song_info = []\n",
        "        for hit in json['response']['hits']:\n",
        "            if artist_name.lower() in hit['result']['primary_artist']['name'].lower():\n",
        "                song_info.append(hit)\n",
        "    \n",
        "        # Collect song URL's from song objects\n",
        "        for song in song_info:\n",
        "            if (len(songs) < song_cap):\n",
        "                url = song['result']['url']\n",
        "                songs.append(url)\n",
        "            \n",
        "        if (len(songs) == song_cap):\n",
        "            break\n",
        "        else:\n",
        "            page += 1\n",
        "        \n",
        "    print('Found {} songs by {}'.format(len(songs), artist_name))\n",
        "    return songs\n",
        "    \n",
        "# DEMO\n",
        "request_song_url('JKT48', 10)"
      ],
      "execution_count": 3,
      "outputs": [
        {
          "output_type": "stream",
          "text": [
            "Found 10 songs by JKT48\n"
          ],
          "name": "stdout"
        },
        {
          "output_type": "execute_result",
          "data": {
            "text/plain": [
              "['https://genius.com/Jkt48-heavy-rotation-lyrics',\n",
              " 'https://genius.com/Jkt48-fortune-cookie-yang-mencinta-fortune-cookie-in-love-lyrics',\n",
              " 'https://genius.com/Jkt48-river-lyrics',\n",
              " 'https://genius.com/Jkt48-pesawat-kertas-365-hari-lyrics',\n",
              " 'https://genius.com/Jkt48-everyday-kachuusha-lyrics',\n",
              " 'https://genius.com/Jkt48-dirimu-melody-kimi-wa-melody-lyrics',\n",
              " 'https://genius.com/Jkt48-only-today-lyrics',\n",
              " 'https://genius.com/Jkt48-baby-baby-baby-lyrics',\n",
              " 'https://genius.com/Jkt48-first-rabbit-lyrics',\n",
              " 'https://genius.com/Jkt48-sebagian-besar-kenangan-omoide-no-hotondo-lyrics']"
            ]
          },
          "metadata": {
            "tags": []
          },
          "execution_count": 3
        }
      ]
    },
    {
      "cell_type": "code",
      "metadata": {
        "id": "KXKfL4V27qsl",
        "colab_type": "code",
        "colab": {}
      },
      "source": [
        "# For ignoring SSL certificate errors\n",
        "import urllib.request\n",
        "import urllib.parse\n",
        "import urllib.error\n",
        "import ssl\n",
        "from urllib.request import Request, urlopen\n",
        "\n",
        "ctx = ssl.create_default_context()\n",
        "ctx.check_hostname = False\n",
        "ctx.verify_mode = ssl.CERT_NONE"
      ],
      "execution_count": 4,
      "outputs": []
    },
    {
      "cell_type": "code",
      "metadata": {
        "id": "BRAfhau91wBD",
        "colab_type": "code",
        "colab": {}
      },
      "source": [
        "# # Scrape lyrics from a Genius.com song URL\n",
        "# def scrape_song_lyrics(url):\n",
        "#     page = requests.get(url)\n",
        "#     html = BeautifulSoup(page.text, 'html.parser')\n",
        "#     lyrics = html.find('div', class_='lyrics').get_text()\n",
        "#     #remove identifiers like chorus, verse, etc\n",
        "#     lyrics = re.sub(r'[\\(\\[].*?[\\)\\]]', '', lyrics)\n",
        "#     #remove empty lines\n",
        "#     lyrics = os.linesep.join([s for s in lyrics.splitlines() if s])         \n",
        "#     return lyrics# DEMO\n",
        "# print(scrape_song_lyrics('https://genius.com/Jkt48-only-today-lyrics'))"
      ],
      "execution_count": 5,
      "outputs": []
    },
    {
      "cell_type": "code",
      "metadata": {
        "id": "0PexA0_y2ASC",
        "colab_type": "code",
        "colab": {}
      },
      "source": [
        "# def write_lyrics_to_file(artist_name, song_count):\n",
        "#     f = open(artist_name.lower() + '.txt', 'wb')\n",
        "#     urls = request_song_url(artist_name, song_count)\n",
        "#     for url in urls:\n",
        "#         lyrics = scrape_song_lyrics(url)\n",
        "#         f.write(lyrics.encode(\"utf8\"))\n",
        "#     f.close()\n",
        "#     num_lines = sum(1 for line in open('lyrics/' + artist_name.lower() + '.txt', 'rb'))\n",
        "#     print('Wrote {} lines to file from {} songs'.format(num_lines, song_count))\n",
        "  \n",
        "# # DEMO  \n",
        "# write_lyrics_to_file('JKT48', 5)"
      ],
      "execution_count": 6,
      "outputs": []
    },
    {
      "cell_type": "code",
      "metadata": {
        "id": "iARBlm3f7Zgc",
        "colab_type": "code",
        "colab": {}
      },
      "source": [
        "song_json = {}\n",
        "song_json[\"Lyrics\"] = [];\n",
        "\n",
        "def scrape_from_link(url):\n",
        "    req = Request(url, headers = { 'User-Agent' : 'Mozilla/5.0' })\n",
        "    webpage = urlopen(req).read()\n",
        "    soup = BeautifulSoup(webpage, 'html.parser')\n",
        "    html = soup.prettify('utf-8')\n",
        "\n",
        "    for title in soup.findAll('title'):\n",
        "        song_json[\"Title\"] = title.text.strip()\n",
        "\n",
        "    # Extract the release date of the song\n",
        "    # for span in soup.findAll('span', attrs = {'class': 'metadata_unit-info metadata_unit-info–text_only'}):\n",
        "    #     song_json[\"Release date\"] = span.text.strip()\n",
        "\n",
        "    for div in soup.findAll('div', attrs = {'class': 'lyrics'}):\n",
        "        song_json[\"Lyrics\"].append(div.text.strip().split(\"\\n\"));"
      ],
      "execution_count": 7,
      "outputs": []
    },
    {
      "cell_type": "code",
      "metadata": {
        "id": "nQEAUoaz8VnR",
        "colab_type": "code",
        "colab": {}
      },
      "source": [
        "# scrape_from_link('https://genius.com/Jkt48-only-today-lyrics')"
      ],
      "execution_count": 8,
      "outputs": []
    },
    {
      "cell_type": "code",
      "metadata": {
        "id": "-x-lVxMW9T98",
        "colab_type": "code",
        "colab": {
          "base_uri": "https://localhost:8080/",
          "height": 0
        },
        "outputId": "d93c91fb-b100-417e-b7b4-0a9f8eec063d"
      },
      "source": [
        "import json\n",
        "\n",
        "def write_lyrics_to_file(artist_name, song_count):\n",
        "    f = open(artist_name.lower() + '.json', 'w')\n",
        "    urls = request_song_url(artist_name, song_count)\n",
        "    for url in urls:\n",
        "        print(url)\n",
        "        scrape_from_link(url)\n",
        "        print(song_json[\"Title\"])\n",
        "        # f.write(lyrics.encode(\"utf8\"))\n",
        "    f.close()\n",
        "\n",
        "    with open(artist_name.lower() + '.json', 'w') as outfile:\n",
        "            json.dump(song_json, outfile, indent = 4, ensure_ascii = False)\n",
        "    # num_lines = sum(1 for line in open(artist_name.lower() + '.txt', 'rb'))\n",
        "    # print('Wrote {} lines to file from {} songs'.format(num_lines, song_count))\n",
        "  \n",
        "# DEMO  \n",
        "write_lyrics_to_file('Fiersa Besari', 20)"
      ],
      "execution_count": 11,
      "outputs": [
        {
          "output_type": "stream",
          "text": [
            "Found 20 songs by Fiersa Besari\n",
            "https://genius.com/Fiersa-besari-waktu-yang-salah-lyrics\n",
            "Fiersa Besari – Waktu Yang Salah Lyrics | Genius Lyrics\n",
            "https://genius.com/Fiersa-besari-celengan-rindu-lyrics\n",
            "Fiersa Besari – Celengan Rindu Lyrics | Genius Lyrics\n",
            "https://genius.com/Fiersa-besari-april-lyrics\n",
            "Fiersa Besari – April Lyrics | Genius Lyrics\n",
            "https://genius.com/Fiersa-besari-bukan-lagu-valentine-lyrics\n",
            "Fiersa Besari – Bukan Lagu Valentine Lyrics | Genius Lyrics\n",
            "https://genius.com/Fiersa-besari-cerita-panjang-dihidup-yang-singkat-lyrics\n",
            "Fiersa Besari – Cerita Panjang Dihidup yang Singkat Lyrics | Genius Lyrics\n",
            "https://genius.com/Fiersa-besari-pelukku-untuk-pelikmu-ost-imperfect-karier-cinta-and-timbangan-lyrics\n",
            "Fiersa Besari – Pelukku Untuk Pelikmu (OST Imperfect: Karier, Cinta, & Timbangan) Lyrics | Genius Lyrics\n",
            "https://genius.com/Fiersa-besari-sepasang-pendaki-lyrics\n",
            "Fiersa Besari – Sepasang Pendaki Lyrics | Genius Lyrics\n",
            "https://genius.com/Fiersa-besari-hidup-kan-baik-baik-saja-lyrics\n",
            "Fiersa Besari – Hidup Kan Baik-Baik Saja Lyrics | Genius Lyrics\n",
            "https://genius.com/Fiersa-besari-rumah-lyrics\n",
            "Fiersa Besari – Rumah Lyrics | Genius Lyrics\n",
            "https://genius.com/Fiersa-besari-tempat-aku-pulang-lyrics\n",
            "Fiersa Besari – Tempat Aku Pulang Lyrics | Genius Lyrics\n",
            "https://genius.com/Fiersa-besari-ibu-lyrics\n",
            "Fiersa Besari – Ibu Lyrics | Genius Lyrics\n",
            "https://genius.com/Fiersa-besari-anak-semua-bangsa-lyrics\n",
            "Fiersa Besari – Anak Semua Bangsa Lyrics | Genius Lyrics\n",
            "https://genius.com/Fiersa-besari-tiffa-lyrics\n",
            "Fiersa Besari – Tiffa Lyrics | Genius Lyrics\n",
            "https://genius.com/Fiersa-besari-friendzone-lyrics\n",
            "Fiersa Besari – Friendzone Lyrics | Genius Lyrics\n",
            "https://genius.com/Fiersa-besari-nona-senja-lyrics\n",
            "Fiersa Besari – Nona Senja Lyrics | Genius Lyrics\n",
            "https://genius.com/Fiersa-besari-edelweiss-lyrics\n",
            "Fiersa Besari – Edelweiss Lyrics | Genius Lyrics\n",
            "https://genius.com/Fiersa-besari-napak-tilas-lyrics\n",
            "Fiersa Besari – Napak Tilas Lyrics | Genius Lyrics\n",
            "https://genius.com/Fiersa-besari-konspirasi-alam-semesta-lyrics\n",
            "Fiersa Besari – Konspirasi Alam Semesta Lyrics | Genius Lyrics\n",
            "https://genius.com/Fiersa-besari-juara-kedua-lyrics\n",
            "Fiersa Besari – Juara Kedua Lyrics | Genius Lyrics\n",
            "https://genius.com/Fiersa-besari-senja-bersayap-lyrics\n",
            "Fiersa Besari – Senja Bersayap Lyrics | Genius Lyrics\n"
          ],
          "name": "stdout"
        }
      ]
    },
    {
      "cell_type": "code",
      "metadata": {
        "id": "5kSNTSe5-279",
        "colab_type": "code",
        "colab": {}
      },
      "source": [
        ""
      ],
      "execution_count": 10,
      "outputs": []
    }
  ]
}