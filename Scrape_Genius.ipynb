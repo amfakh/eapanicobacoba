{
  "nbformat": 4,
  "nbformat_minor": 0,
  "metadata": {
    "colab": {
      "name": "Scrape Genius 1.ipynb",
      "provenance": [],
      "collapsed_sections": [],
      "authorship_tag": "ABX9TyOStvC5poUNUlGcGD+bkYMZ",
      "include_colab_link": true
    },
    "kernelspec": {
      "name": "python3",
      "display_name": "Python 3"
    }
  },
  "cells": [
    {
      "cell_type": "markdown",
      "metadata": {
        "id": "view-in-github",
        "colab_type": "text"
      },
      "source": [
        "<a href=\"https://colab.research.google.com/github/amfakh/eapanicobacoba/blob/master/Scrape_Genius.ipynb\" target=\"_parent\"><img src=\"https://colab.research.google.com/assets/colab-badge.svg\" alt=\"Open In Colab\"/></a>"
      ]
    },
    {
      "cell_type": "code",
      "metadata": {
        "id": "CRkj2FJ85CRt",
        "colab_type": "code",
        "colab": {}
      },
      "source": [
        "https://medium.com/analytics-vidhya/how-to-scrape-song-lyrics-a-gentle-python-tutorial-5b1d4ab351d2"
      ],
      "execution_count": null,
      "outputs": []
    },
    {
      "cell_type": "code",
      "metadata": {
        "id": "9Ta0QGUq1byw",
        "colab_type": "code",
        "colab": {}
      },
      "source": [
        "# Make HTTP requests\n",
        "import requests\n",
        "\n",
        "# Scrape data from an HTML document\n",
        "from bs4 import BeautifulSoup\n",
        "\n",
        "# I/O\n",
        "import os\n",
        "\n",
        "# Search and manipulate strings\n",
        "import re"
      ],
      "execution_count": null,
      "outputs": []
    },
    {
      "cell_type": "code",
      "metadata": {
        "id": "P414fELH1zUA",
        "colab_type": "code",
        "colab": {}
      },
      "source": [
        "GENIUS_API_TOKEN='PXpvxuPl_XyMM02ly-gyw8bd7tyP1avUQLZVsR4ooRmhfbTDOWG8mEHez0DGygjp'"
      ],
      "execution_count": null,
      "outputs": []
    },
    {
      "cell_type": "code",
      "metadata": {
        "id": "FUOGeQbd1lWY",
        "colab_type": "code",
        "colab": {
          "base_uri": "https://localhost:8080/",
          "height": 214
        },
        "outputId": "5084acba-2a68-440b-cdc7-12014be30103"
      },
      "source": [
        "# Get artist object from Genius API\n",
        "def request_artist_info(artist_name, page):\n",
        "    base_url = 'https://api.genius.com'\n",
        "    headers = {'Authorization': 'Bearer ' + GENIUS_API_TOKEN}\n",
        "    search_url = base_url + '/search?per_page=10&page=' + str(page)\n",
        "    data = {'q': artist_name}\n",
        "    response = requests.get(search_url, data=data, headers=headers)\n",
        "    return response# Get Genius.com song url's from artist object\n",
        "def request_song_url(artist_name, song_cap):\n",
        "    page = 1\n",
        "    songs = []\n",
        "    \n",
        "    while True:\n",
        "        response = request_artist_info(artist_name, page)\n",
        "        json = response.json()        # Collect up to song_cap song objects from artist\n",
        "        song_info = []\n",
        "        for hit in json['response']['hits']:\n",
        "            if artist_name.lower() in hit['result']['primary_artist']['name'].lower():\n",
        "                song_info.append(hit)\n",
        "    \n",
        "        # Collect song URL's from song objects\n",
        "        for song in song_info:\n",
        "            if (len(songs) < song_cap):\n",
        "                url = song['result']['url']\n",
        "                songs.append(url)\n",
        "            \n",
        "        if (len(songs) == song_cap):\n",
        "            break\n",
        "        else:\n",
        "            page += 1\n",
        "        \n",
        "    print('Found {} songs by {}'.format(len(songs), artist_name))\n",
        "    return songs\n",
        "    \n",
        "# DEMO\n",
        "request_song_url('JKT48', 10)"
      ],
      "execution_count": null,
      "outputs": [
        {
          "output_type": "stream",
          "text": [
            "Found 10 songs by JKT48\n"
          ],
          "name": "stdout"
        },
        {
          "output_type": "execute_result",
          "data": {
            "text/plain": [
              "['https://genius.com/Jkt48-heavy-rotation-lyrics',\n",
              " 'https://genius.com/Jkt48-fortune-cookie-yang-mencinta-fortune-cookie-in-love-lyrics',\n",
              " 'https://genius.com/Jkt48-river-lyrics',\n",
              " 'https://genius.com/Jkt48-pesawat-kertas-365-hari-lyrics',\n",
              " 'https://genius.com/Jkt48-everyday-kachuusha-lyrics',\n",
              " 'https://genius.com/Jkt48-dirimu-melody-kimi-wa-melody-lyrics',\n",
              " 'https://genius.com/Jkt48-only-today-lyrics',\n",
              " 'https://genius.com/Jkt48-baby-baby-baby-lyrics',\n",
              " 'https://genius.com/Jkt48-first-rabbit-lyrics',\n",
              " 'https://genius.com/Jkt48-sebagian-besar-kenangan-omoide-no-hotondo-lyrics']"
            ]
          },
          "metadata": {
            "tags": []
          },
          "execution_count": 9
        }
      ]
    },
    {
      "cell_type": "code",
      "metadata": {
        "id": "BRAfhau91wBD",
        "colab_type": "code",
        "colab": {}
      },
      "source": [
        "# # Scrape lyrics from a Genius.com song URL\n",
        "# def scrape_song_lyrics(url):\n",
        "#     page = requests.get(url)\n",
        "#     html = BeautifulSoup(page.text, 'html.parser')\n",
        "#     lyrics = html.find('div', class_='lyrics').get_text()\n",
        "#     #remove identifiers like chorus, verse, etc\n",
        "#     lyrics = re.sub(r'[\\(\\[].*?[\\)\\]]', '', lyrics)\n",
        "#     #remove empty lines\n",
        "#     lyrics = os.linesep.join([s for s in lyrics.splitlines() if s])         \n",
        "#     return lyrics# DEMO\n",
        "# print(scrape_song_lyrics('https://genius.com/Jkt48-only-today-lyrics'))"
      ],
      "execution_count": null,
      "outputs": []
    },
    {
      "cell_type": "code",
      "metadata": {
        "id": "0PexA0_y2ASC",
        "colab_type": "code",
        "colab": {}
      },
      "source": [
        "# def write_lyrics_to_file(artist_name, song_count):\n",
        "#     f = open(artist_name.lower() + '.txt', 'wb')\n",
        "#     urls = request_song_url(artist_name, song_count)\n",
        "#     for url in urls:\n",
        "#         lyrics = scrape_song_lyrics(url)\n",
        "#         f.write(lyrics.encode(\"utf8\"))\n",
        "#     f.close()\n",
        "#     num_lines = sum(1 for line in open('lyrics/' + artist_name.lower() + '.txt', 'rb'))\n",
        "#     print('Wrote {} lines to file from {} songs'.format(num_lines, song_count))\n",
        "  \n",
        "# # DEMO  \n",
        "# write_lyrics_to_file('JKT48', 5)"
      ],
      "execution_count": null,
      "outputs": []
    },
    {
      "cell_type": "code",
      "metadata": {
        "id": "KXKfL4V27qsl",
        "colab_type": "code",
        "colab": {}
      },
      "source": [
        "# For ignoring SSL certificate errors\n",
        "import ssl\n",
        "\n",
        "ctx = ssl.create_default_context()\n",
        "ctx.check_hostname = False\n",
        "ctx.verify_mode = ssl.CERT_NONE"
      ],
      "execution_count": 26,
      "outputs": []
    },
    {
      "cell_type": "code",
      "metadata": {
        "id": "iARBlm3f7Zgc",
        "colab_type": "code",
        "colab": {}
      },
      "source": [
        "def scrape_from_link(url)\n",
        "    page = requests.get(url):\n",
        "        "
      ],
      "execution_count": null,
      "outputs": []
    }
  ]
}